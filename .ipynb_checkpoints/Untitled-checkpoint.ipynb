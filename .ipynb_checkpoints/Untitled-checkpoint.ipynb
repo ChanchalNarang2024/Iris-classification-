{
 "cells": [
  {
   "cell_type": "code",
   "execution_count": null,
   "id": "0ee78d1d-f3bd-4170-acef-15125e8b4110",
   "metadata": {},
   "outputs": [],
   "source": []
  }
 ],
 "metadata": {
  "kernelspec": {
   "display_name": "",
   "name": ""
  },
  "language_info": {
   "name": ""
  }
 },
 "nbformat": 4,
 "nbformat_minor": 5
}
